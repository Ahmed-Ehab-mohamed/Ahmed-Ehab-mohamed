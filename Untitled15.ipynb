{
  "nbformat": 4,
  "nbformat_minor": 0,
  "metadata": {
    "colab": {
      "provenance": [],
      "authorship_tag": "ABX9TyOqfuEbNATWNDs+4Ss2wmw1",
      "include_colab_link": true
    },
    "kernelspec": {
      "name": "python3",
      "display_name": "Python 3"
    },
    "language_info": {
      "name": "python"
    }
  },
  "cells": [
    {
      "cell_type": "markdown",
      "metadata": {
        "id": "view-in-github",
        "colab_type": "text"
      },
      "source": [
        "<a href=\"https://colab.research.google.com/github/Ahmed-Ehab-mohamed/Football_league/blob/main/Untitled15.ipynb\" target=\"_parent\"><img src=\"https://colab.research.google.com/assets/colab-badge.svg\" alt=\"Open In Colab\"/></a>"
      ]
    },
    {
      "cell_type": "code",
      "execution_count": null,
      "metadata": {
        "colab": {
          "base_uri": "https://localhost:8080/"
        },
        "id": "UaxPPlDiUoMN",
        "outputId": "23ab2716-efd5-48ce-d809-fc087ee7331c"
      },
      "outputs": [
        {
          "output_type": "execute_result",
          "data": {
            "text/plain": [
              "0.7604166666666666"
            ]
          },
          "metadata": {},
          "execution_count": 11
        }
      ],
      "source": [
        "import pandas as pd\n",
        "import numpy as np\n",
        "from sklearn.model_selection import train_test_split\n",
        "from sklearn.preprocessing import StandardScaler\n",
        "from sklearn.neighbors import KNeighborsClassifier\n",
        "from sklearn.metrics import accuracy_score\n",
        "\n",
        "#read the dataset\n",
        "dataset=pd.read_csv('diabetes.csv')\n",
        "dataset.head(3)\n",
        "\n",
        "# Replace zeroes\n",
        "zero_not_accepted = ['Glucose', 'BloodPressure', 'SkinThickness', 'BMI', 'Insulin']\n",
        "for column in zero_not_accepted:\n",
        "    mean = int(dataset[column].mean(skipna=True))\n",
        "    dataset[column] = dataset[column].replace(0, mean)\n",
        "dataset.head(3)\n",
        "\n",
        "#split the dataset\n",
        "X=dataset.iloc[:,0:8]\n",
        "Y=dataset.iloc[:,8]\n",
        "X_train, X_test,y_train,y_test=train_test_split(X,Y)\n",
        "sc_X = StandardScaler()\n",
        "X_train = sc_X.fit_transform(X_train)\n",
        "X_test = sc_X.fit_transform(X_test)\n",
        "\n",
        "# Define the model: Init K-NN\n",
        "model=KNeighborsClassifier()\n",
        "\n",
        "# Fit Model\n",
        "model.fit(X_train,y_train)\n",
        "\n",
        "#prediction\n",
        "ypre = model.predict(X_test)\n",
        "accuracy_score(ypre,y_test)\n",
        "\n"
      ]
    }
  ]
}